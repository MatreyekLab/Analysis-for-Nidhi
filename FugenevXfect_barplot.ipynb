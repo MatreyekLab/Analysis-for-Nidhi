{
 "cells": [
  {
   "cell_type": "code",
   "execution_count": 3,
   "id": "9e5388d1-3e0b-48b8-aa9f-9ca530eae0c5",
   "metadata": {},
   "outputs": [
    {
     "data": {
      "image/png": "[encoded data removed]",
      "text/plain": [
       "<Figure size 648x576 with 1 Axes>"
      ]
     },
     "metadata": {
      "needs_background": "light"
     },
     "output_type": "display_data"
    }
   ],
   "source": [
    "import pandas as pd\n",
    "import numpy as np\n",
    "import matplotlib.pyplot as plt\n",
    "\n",
    "kozak_data = pd.read_csv ('Combined_data_IDT_Kozak.csv')\n",
    "mCherry_data = pd.read_csv ('Combined_data_mCherry.csv')\n",
    "merge = [kozak_data, mCherry_data]\n",
    "combine_df = pd.concat(merge).reset_index(drop=True)\n",
    "combine_df = combine_df[[\"Recombined_construct\", \"Reagent\", \"pct_mCherry\"]]\n",
    "\n",
    "def average(lst):\n",
    "    return sum(lst) / len(lst)\n",
    "\n",
    "kozak_Xfect = combine_df.loc[(combine_df['Recombined_construct'] == 'IDT_Std_ACE2_Kozak') & \n",
    "                             (combine_df['Reagent'] == 'Xfect')]\n",
    "kozak_Xfect = average(kozak_Xfect['pct_mCherry'].tolist())\n",
    "\n",
    "kozak_Fugene = combine_df.loc[(combine_df['Recombined_construct'] == 'IDT_Std_ACE2_Kozak') & \n",
    "                             (combine_df['Reagent'] == 'Fugene')]\n",
    "kozak_Fugene = average(kozak_Fugene['pct_mCherry'].tolist())\n",
    "\n",
    "mCherry_Xfect = combine_df.loc[(combine_df['Recombined_construct'] == 'mCherry') & \n",
    "                             (combine_df['Reagent'] == 'Xfect')]\n",
    "mCherry_Xfect = average(mCherry_Xfect['pct_mCherry'].tolist())\n",
    "\n",
    "mCherry_Fugene = combine_df.loc[(combine_df['Recombined_construct'] == 'mCherry') & \n",
    "                             (combine_df['Reagent'] == 'Fugene')]\n",
    "mCherry_Fugene = average(mCherry_Fugene['pct_mCherry'].tolist())\n",
    "\n",
    "final_data = [[\"Xfect\", kozak_Xfect, mCherry_Xfect],\n",
    "              [\"Fugene\", kozak_Fugene, mCherry_Fugene]]\n",
    "\n",
    "df = pd.DataFrame(final_data, columns = [\"Reagent\", \"Kozak\", \"mCherry\"])\n",
    "df.plot(x = \"Reagent\", y = [\"Kozak\", \"mCherry\"], kind=\"bar\",figsize=(9,8))\n",
    "plt.xlabel('Reagent', fontweight ='bold', fontsize = 15)\n",
    "plt.ylabel('% Expression of mCherry', fontweight ='bold', fontsize = 15)\n",
    "plt.savefig('ReagentVmCherryExpression_Bar.png')\n",
    "plt.show()"
   ]
  },
  {
   "cell_type": "code",
   "execution_count": 52,
   "id": "3b3f3162-e785-4d8a-bee5-b7c4c9327324",
   "metadata": {},
   "outputs": [
    {
     "data": {
      "text/plain": [
       "[['Xfect', [3.114512, 3.26, 5.01], [19.959993, 26.0, 28.6]],\n",
       " ['Fugene', [2.472758, 1.72, 2.1], [5.042017, 6.54, 8.17]]]"
      ]
     },
     "execution_count": 52,
     "metadata": {},
     "output_type": "execute_result"
    }
   ],
   "source": [
    "final_data"
   ]
  },
  {
   "cell_type": "code",
   "execution_count": 53,
   "id": "bc20dc84-168b-4f2e-8cce-e8aa4f55d1a3",
   "metadata": {},
   "outputs": [
    {
     "data": {
      "text/html": [
       "<div>\n",
       "<style scoped>\n",
       "    .dataframe tbody tr th:only-of-type {\n",
       "        vertical-align: middle;\n",
       "    }\n",
       "\n",
       "    .dataframe tbody tr th {\n",
       "        vertical-align: top;\n",
       "    }\n",
       "\n",
       "    .dataframe thead th {\n",
       "        text-align: right;\n",
       "    }\n",
       "</style>\n",
       "<table border=\"1\" class=\"dataframe\">\n",
       "  <thead>\n",
       "    <tr style=\"text-align: right;\">\n",
       "      <th></th>\n",
       "      <th>Recombined_construct</th>\n",
       "      <th>Reagent</th>\n",
       "      <th>pct_mCherry</th>\n",
       "    </tr>\n",
       "  </thead>\n",
       "  <tbody>\n",
       "    <tr>\n",
       "      <th>0</th>\n",
       "      <td>IDT_Std_ACE2_Kozak</td>\n",
       "      <td>Xfect</td>\n",
       "      <td>3.114512</td>\n",
       "    </tr>\n",
       "    <tr>\n",
       "      <th>1</th>\n",
       "      <td>IDT_Std_ACE2_Kozak</td>\n",
       "      <td>Xfect</td>\n",
       "      <td>3.260000</td>\n",
       "    </tr>\n",
       "    <tr>\n",
       "      <th>2</th>\n",
       "      <td>IDT_Std_ACE2_Kozak</td>\n",
       "      <td>Xfect</td>\n",
       "      <td>5.010000</td>\n",
       "    </tr>\n",
       "    <tr>\n",
       "      <th>3</th>\n",
       "      <td>IDT_Std_ACE2_Kozak</td>\n",
       "      <td>Fugene</td>\n",
       "      <td>2.472758</td>\n",
       "    </tr>\n",
       "    <tr>\n",
       "      <th>4</th>\n",
       "      <td>IDT_Std_ACE2_Kozak</td>\n",
       "      <td>Fugene</td>\n",
       "      <td>1.720000</td>\n",
       "    </tr>\n",
       "    <tr>\n",
       "      <th>5</th>\n",
       "      <td>IDT_Std_ACE2_Kozak</td>\n",
       "      <td>Fugene</td>\n",
       "      <td>2.100000</td>\n",
       "    </tr>\n",
       "    <tr>\n",
       "      <th>6</th>\n",
       "      <td>mCherry</td>\n",
       "      <td>Xfect</td>\n",
       "      <td>19.959993</td>\n",
       "    </tr>\n",
       "    <tr>\n",
       "      <th>7</th>\n",
       "      <td>mCherry</td>\n",
       "      <td>Xfect</td>\n",
       "      <td>26.000000</td>\n",
       "    </tr>\n",
       "    <tr>\n",
       "      <th>8</th>\n",
       "      <td>mCherry</td>\n",
       "      <td>Xfect</td>\n",
       "      <td>28.600000</td>\n",
       "    </tr>\n",
       "    <tr>\n",
       "      <th>9</th>\n",
       "      <td>mCherry</td>\n",
       "      <td>Fugene</td>\n",
       "      <td>5.042017</td>\n",
       "    </tr>\n",
       "    <tr>\n",
       "      <th>10</th>\n",
       "      <td>mCherry</td>\n",
       "      <td>Fugene</td>\n",
       "      <td>6.540000</td>\n",
       "    </tr>\n",
       "    <tr>\n",
       "      <th>11</th>\n",
       "      <td>mCherry</td>\n",
       "      <td>Fugene</td>\n",
       "      <td>8.170000</td>\n",
       "    </tr>\n",
       "  </tbody>\n",
       "</table>\n",
       "</div>"
      ],
      "text/plain": [
       "   Recombined_construct Reagent  pct_mCherry\n",
       "0    IDT_Std_ACE2_Kozak   Xfect     3.114512\n",
       "1    IDT_Std_ACE2_Kozak   Xfect     3.260000\n",
       "2    IDT_Std_ACE2_Kozak   Xfect     5.010000\n",
       "3    IDT_Std_ACE2_Kozak  Fugene     2.472758\n",
       "4    IDT_Std_ACE2_Kozak  Fugene     1.720000\n",
       "5    IDT_Std_ACE2_Kozak  Fugene     2.100000\n",
       "6               mCherry   Xfect    19.959993\n",
       "7               mCherry   Xfect    26.000000\n",
       "8               mCherry   Xfect    28.600000\n",
       "9               mCherry  Fugene     5.042017\n",
       "10              mCherry  Fugene     6.540000\n",
       "11              mCherry  Fugene     8.170000"
      ]
     },
     "execution_count": 53,
     "metadata": {},
     "output_type": "execute_result"
    }
   ],
   "source": [
    "combine_df"
   ]
  },
  {
   "cell_type": "code",
   "execution_count": null,
   "id": "d4a47772-aaa1-40fd-95b6-21ab902c8c1a",
   "metadata": {},
   "outputs": [],
   "source": []
  }
 ],
 "metadata": {
  "kernelspec": {
   "display_name": "Python 3",
   "language": "python",
   "name": "python3"
  },
  "language_info": {
   "codemirror_mode": {
    "name": "ipython",
    "version": 3
   },
   "file_extension": ".py",
   "mimetype": "text/x-python",
   "name": "python",
   "nbconvert_exporter": "python",
   "pygments_lexer": "ipython3",
   "version": "3.9.2"
  }
 },
 "nbformat": 4,
 "nbformat_minor": 5
}
